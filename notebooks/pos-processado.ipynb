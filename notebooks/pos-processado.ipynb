{
 "cells": [
  {
   "cell_type": "code",
   "execution_count": 26,
   "metadata": {},
   "outputs": [],
   "source": [
    "import pandas as pd\n",
    "import numpy as np\n",
    "import nltk\n",
    "from pymongo import MongoClient\n",
    "from nltk.corpus import stopwords\n",
    "from nltk import pos_tag\n",
    "import sklearn\n",
    "from sklearn.pipeline import Pipeline\n",
    "from sklearn.cluster import KMeans\n",
    "from sklearn.feature_extraction.text import TfidfVectorizer, CountVectorizer\n",
    "from sklearn.decomposition import LatentDirichletAllocation as LDA\n",
    "from sklearn.decomposition import NMF \n",
    "from sklearn.datasets import fetch_20newsgroups\n",
    "\n",
    "local = MongoClient('localhost',27017)\n",
    "db = local.tcc\n",
    "collection = db.processed"
   ]
  },
  {
   "cell_type": "code",
   "execution_count": 27,
   "metadata": {},
   "outputs": [],
   "source": [
    "df = pd.DataFrame(list(collection.find().limit(1500)))"
   ]
  },
  {
   "cell_type": "markdown",
   "metadata": {},
   "source": [
    "# POS-TAG "
   ]
  },
  {
   "cell_type": "code",
   "execution_count": 28,
   "metadata": {},
   "outputs": [],
   "source": [
    "# df['pre'] = df['pre'].apply(pos_tag)"
   ]
  },
  {
   "cell_type": "code",
   "execution_count": 29,
   "metadata": {
    "scrolled": true
   },
   "outputs": [
    {
     "data": {
      "text/plain": [
       "0    [This, great, kid, two, year, old, son, love, ...\n",
       "Name: pre, dtype: object"
      ]
     },
     "execution_count": 29,
     "metadata": {},
     "output_type": "execute_result"
    }
   ],
   "source": [
    "df['pre'].head(1)"
   ]
  },
  {
   "cell_type": "code",
   "execution_count": 30,
   "metadata": {},
   "outputs": [],
   "source": [
    "def word_tag(document):\n",
    "    aux = list()\n",
    "    for word, tag in document:\n",
    "        nw = word + \"_{}\".format(tag)\n",
    "        aux.append(nw)\n",
    "    return aux\n",
    "    "
   ]
  },
  {
   "cell_type": "code",
   "execution_count": 31,
   "metadata": {},
   "outputs": [],
   "source": [
    "# df['pre']= df['pre'].apply(word_tag)"
   ]
  },
  {
   "cell_type": "markdown",
   "metadata": {},
   "source": [
    "# Criando os objetos do LDA e TF-IDF"
   ]
  },
  {
   "cell_type": "code",
   "execution_count": 32,
   "metadata": {},
   "outputs": [],
   "source": [
    "tfidf = CountVectorizer()\n",
    "lda = LDA(n_components=10, max_iter=5, learning_method=\"online\")\n",
    "nmf = NMF(n_components=10)"
   ]
  },
  {
   "cell_type": "code",
   "execution_count": 33,
   "metadata": {},
   "outputs": [],
   "source": [
    "X = tfidf.fit_transform(np.hstack(df['pre']))"
   ]
  },
  {
   "cell_type": "code",
   "execution_count": 34,
   "metadata": {},
   "outputs": [
    {
     "data": {
      "text/plain": [
       "LatentDirichletAllocation(batch_size=128, doc_topic_prior=None,\n",
       "             evaluate_every=-1, learning_decay=0.7,\n",
       "             learning_method='online', learning_offset=10.0,\n",
       "             max_doc_update_iter=100, max_iter=5, mean_change_tol=0.001,\n",
       "             n_components=10, n_jobs=1, n_topics=None, perp_tol=0.1,\n",
       "             random_state=None, topic_word_prior=None,\n",
       "             total_samples=1000000.0, verbose=0)"
      ]
     },
     "execution_count": 34,
     "metadata": {},
     "output_type": "execute_result"
    }
   ],
   "source": [
    "lda.fit(X)"
   ]
  },
  {
   "cell_type": "code",
   "execution_count": 35,
   "metadata": {},
   "outputs": [
    {
     "data": {
      "text/plain": [
       "NMF(alpha=0.0, beta_loss='frobenius', init=None, l1_ratio=0.0, max_iter=200,\n",
       "  n_components=10, random_state=None, shuffle=False, solver='cd',\n",
       "  tol=0.0001, verbose=0)"
      ]
     },
     "execution_count": 35,
     "metadata": {},
     "output_type": "execute_result"
    }
   ],
   "source": [
    "nmf.fit(X)"
   ]
  },
  {
   "cell_type": "code",
   "execution_count": 38,
   "metadata": {
    "scrolled": true
   },
   "outputs": [
    {
     "name": "stdout",
     "output_type": "stream",
     "text": [
      "LDA - Topic #0 the even car you many make play station take\n",
      "\n",
      "LDA - Topic #1 app like apos program list 34 my since found\n",
      "\n",
      "LDA - Topic #2 tv work bible phone also fire much give know\n",
      "\n",
      "LDA - Topic #3 show see daily tower set apps watch recommend right\n",
      "\n",
      "LDA - Topic #4 would find every star looking lot if rhapsody worth\n",
      "\n",
      "LDA - Topic #5 channel love game get kindle cable way update quot\n",
      "\n",
      "LDA - Topic #6 this easy guide day really good want read version\n",
      "\n",
      "LDA - Topic #7 it time great listing doe free well better music\n",
      "\n",
      "LDA - Topic #8 wa use need go used could back screen simple\n",
      "\n",
      "LDA - Topic #9 one ha best nice android got little local something\n",
      "\n"
     ]
    }
   ],
   "source": [
    "for topic_idx, topic in enumerate(lda.components_):\n",
    "    message = \"LDA - Topic #{} \".format(topic_idx)\n",
    "    message += \" \".join([tfidf.get_feature_names()[i] for i in topic.argsort()[:-10:-1]])\n",
    "    print(message)\n",
    "    print()"
   ]
  },
  {
   "cell_type": "code",
   "execution_count": 39,
   "metadata": {},
   "outputs": [
    {
     "name": "stdout",
     "output_type": "stream",
     "text": [
      "NMF - Topic #0 app my for price thanks similar permissions yesterday tv\n",
      "\n",
      "NMF - Topic #1 it kindle music well my if update god station\n",
      "\n",
      "NMF - Topic #2 like do carry bible the daily would channel easy\n",
      "\n",
      "NMF - Topic #3 love the would daily bible channel one tv free\n",
      "\n",
      "NMF - Topic #4 use only programs ni now have sense one would\n",
      "\n",
      "NMF - Topic #5 time day play overall consuming to one if despite\n",
      "\n",
      "NMF - Topic #6 wa one get day channel work star second message\n",
      "\n",
      "NMF - Topic #7 game and never to finally arrow evo placing idiots\n",
      "\n",
      "NMF - Topic #8 this channel tv day help device update so watch\n",
      "\n",
      "NMF - Topic #9 great the ago along ugly daily air over free\n",
      "\n"
     ]
    }
   ],
   "source": [
    "for topic_idx, topic in enumerate(nmf.components_):\n",
    "    message = \"NMF - Topic #{} \".format(topic_idx)\n",
    "    message += \" \".join([tfidf.get_feature_names()[i] for i in topic.argsort()[:-10:-1]])\n",
    "    print(message)\n",
    "    print()"
   ]
  },
  {
   "cell_type": "code",
   "execution_count": null,
   "metadata": {},
   "outputs": [],
   "source": []
  }
 ],
 "metadata": {
  "kernelspec": {
   "display_name": "Python 3",
   "language": "python",
   "name": "python3"
  },
  "language_info": {
   "codemirror_mode": {
    "name": "ipython",
    "version": 3
   },
   "file_extension": ".py",
   "mimetype": "text/x-python",
   "name": "python",
   "nbconvert_exporter": "python",
   "pygments_lexer": "ipython3",
   "version": "3.5.3"
  }
 },
 "nbformat": 4,
 "nbformat_minor": 2
}
